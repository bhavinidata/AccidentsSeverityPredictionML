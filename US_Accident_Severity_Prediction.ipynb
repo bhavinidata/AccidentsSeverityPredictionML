{
 "cells": [
  {
   "cell_type": "markdown",
   "metadata": {},
   "source": [
    "# Accident Severity Prediction"
   ]
  },
  {
   "cell_type": "code",
   "execution_count": 3,
   "metadata": {},
   "outputs": [],
   "source": [
    "import warnings\n",
    "warnings.filterwarnings(\"ignore\")"
   ]
  },
  {
   "cell_type": "code",
   "execution_count": 4,
   "metadata": {},
   "outputs": [],
   "source": [
    "import pandas as pd\n",
    "import numpy as np\n",
    "import joblib\n",
    "import pickle"
   ]
  },
  {
   "cell_type": "code",
   "execution_count": 5,
   "metadata": {},
   "outputs": [
    {
     "name": "stdout",
     "output_type": "stream",
     "text": [
      "Requirement already satisfied: imblearn in /Users/bhavinivyas/anaconda3/lib/python3.7/site-packages (0.0)\n",
      "Requirement already satisfied: imbalanced-learn in /Users/bhavinivyas/anaconda3/lib/python3.7/site-packages (from imblearn) (0.5.0)\n",
      "Requirement already satisfied: numpy>=1.11 in /Users/bhavinivyas/anaconda3/lib/python3.7/site-packages (from imbalanced-learn->imblearn) (1.16.2)\n",
      "Requirement already satisfied: scipy>=0.17 in /Users/bhavinivyas/anaconda3/lib/python3.7/site-packages (from imbalanced-learn->imblearn) (1.2.1)\n",
      "Requirement already satisfied: scikit-learn>=0.21 in /Users/bhavinivyas/anaconda3/lib/python3.7/site-packages (from imbalanced-learn->imblearn) (0.22.1)\n",
      "Requirement already satisfied: joblib>=0.11 in /Users/bhavinivyas/anaconda3/lib/python3.7/site-packages (from imbalanced-learn->imblearn) (0.14.1)\n"
     ]
    }
   ],
   "source": [
    "!pip install imblearn"
   ]
  },
  {
   "cell_type": "code",
   "execution_count": 6,
   "metadata": {},
   "outputs": [],
   "source": [
    "from sklearn.preprocessing import LabelEncoder\n",
    "from sklearn.pipeline import make_pipeline\n",
    "from sklearn.model_selection import train_test_split\n",
    "from sklearn.ensemble import RandomForestClassifier\n",
    "from sklearn.linear_model import LogisticRegression\n",
    "from sklearn.preprocessing import StandardScaler, OneHotEncoder\n",
    "from sklearn.neighbors import KNeighborsClassifier\n",
    "from sklearn.metrics import classification_report\n",
    "from sklearn.model_selection import GridSearchCV\n",
    "from sklearn import svm\n",
    "from sklearn.svm import SVC\n",
    "from imblearn.over_sampling import SMOTE"
   ]
  },
  {
   "cell_type": "code",
   "execution_count": 7,
   "metadata": {},
   "outputs": [],
   "source": [
    "from imblearn.under_sampling import RandomUnderSampler\n",
    "from imblearn.pipeline import make_pipeline as make_pipeline_imb\n",
    "from imblearn.metrics import classification_report_imbalanced"
   ]
  },
  {
   "cell_type": "code",
   "execution_count": 8,
   "metadata": {},
   "outputs": [],
   "source": [
    "df_full_data = pd.read_csv(\"df_ready_for_ml.csv\")"
   ]
  },
  {
   "cell_type": "code",
   "execution_count": 9,
   "metadata": {},
   "outputs": [
    {
     "data": {
      "text/plain": [
       "Severity            1785064\n",
       "Start_Lat           1785064\n",
       "Start_Lng           1785064\n",
       "Start_Time          1785064\n",
       "Temperature(F)      1785064\n",
       "Visibility(mi)      1785064\n",
       "Wind_Speed(mph)     1785064\n",
       "Weather_Category    1785064\n",
       "Pressure(in)        1785064\n",
       "dtype: int64"
      ]
     },
     "execution_count": 9,
     "metadata": {},
     "output_type": "execute_result"
    }
   ],
   "source": [
    "df_full_data.count()"
   ]
  },
  {
   "cell_type": "code",
   "execution_count": 10,
   "metadata": {},
   "outputs": [],
   "source": [
    "# Convert Start_Time and End_Time to datetypes\n",
    "df_full_data['Start_Time'] = pd.to_datetime(df_full_data['Start_Time'], errors='coerce')\n",
    "\n",
    "# Extract year, month, day, hour and weekday\n",
    "df_full_data['Year']=df_full_data['Start_Time'].dt.year\n",
    "df_full_data['Month']=df_full_data['Start_Time'].dt.strftime('%b')\n",
    "df_full_data['Day']=df_full_data['Start_Time'].dt.day\n",
    "df_full_data['Hour']=df_full_data['Start_Time'].dt.hour\n",
    "df_full_data['Weekday']=df_full_data['Start_Time'].dt.strftime('%a')"
   ]
  },
  {
   "cell_type": "code",
   "execution_count": 11,
   "metadata": {},
   "outputs": [],
   "source": [
    "df_full_noUN=df_full_data[df_full_data[\"Weather_Category\"] != \"UNKNOWN\"]"
   ]
  },
  {
   "cell_type": "code",
   "execution_count": 12,
   "metadata": {},
   "outputs": [],
   "source": [
    "# df_full_data[df_full_data[\"Weather_Category\"] == \"Rain\"]"
   ]
  },
  {
   "cell_type": "code",
   "execution_count": 13,
   "metadata": {},
   "outputs": [
    {
     "data": {
      "text/plain": [
       "Severity            1781072\n",
       "Start_Lat           1781072\n",
       "Start_Lng           1781072\n",
       "Start_Time          1781072\n",
       "Temperature(F)      1781072\n",
       "Visibility(mi)      1781072\n",
       "Wind_Speed(mph)     1781072\n",
       "Weather_Category    1781072\n",
       "Pressure(in)        1781072\n",
       "Year                1781072\n",
       "Month               1781072\n",
       "Day                 1781072\n",
       "Hour                1781072\n",
       "Weekday             1781072\n",
       "dtype: int64"
      ]
     },
     "execution_count": 13,
     "metadata": {},
     "output_type": "execute_result"
    }
   ],
   "source": [
    "df_full_noUN.count()"
   ]
  },
  {
   "cell_type": "code",
   "execution_count": 15,
   "metadata": {},
   "outputs": [
    {
     "data": {
      "text/html": [
       "<div>\n",
       "<style scoped>\n",
       "    .dataframe tbody tr th:only-of-type {\n",
       "        vertical-align: middle;\n",
       "    }\n",
       "\n",
       "    .dataframe tbody tr th {\n",
       "        vertical-align: top;\n",
       "    }\n",
       "\n",
       "    .dataframe thead th {\n",
       "        text-align: right;\n",
       "    }\n",
       "</style>\n",
       "<table border=\"1\" class=\"dataframe\">\n",
       "  <thead>\n",
       "    <tr style=\"text-align: right;\">\n",
       "      <th></th>\n",
       "      <th>Start_Lat</th>\n",
       "      <th>Start_Lng</th>\n",
       "      <th>Start_Time</th>\n",
       "      <th>Temperature(F)</th>\n",
       "      <th>Visibility(mi)</th>\n",
       "      <th>Wind_Speed(mph)</th>\n",
       "      <th>Weather_Category</th>\n",
       "      <th>Pressure(in)</th>\n",
       "      <th>Year</th>\n",
       "      <th>Month</th>\n",
       "      <th>Day</th>\n",
       "      <th>Hour</th>\n",
       "      <th>Weekday</th>\n",
       "    </tr>\n",
       "    <tr>\n",
       "      <th>Severity</th>\n",
       "      <th></th>\n",
       "      <th></th>\n",
       "      <th></th>\n",
       "      <th></th>\n",
       "      <th></th>\n",
       "      <th></th>\n",
       "      <th></th>\n",
       "      <th></th>\n",
       "      <th></th>\n",
       "      <th></th>\n",
       "      <th></th>\n",
       "      <th></th>\n",
       "      <th></th>\n",
       "    </tr>\n",
       "  </thead>\n",
       "  <tbody>\n",
       "    <tr>\n",
       "      <th>2</th>\n",
       "      <td>1159736</td>\n",
       "      <td>1159736</td>\n",
       "      <td>1159736</td>\n",
       "      <td>1159736</td>\n",
       "      <td>1159736</td>\n",
       "      <td>1159736</td>\n",
       "      <td>1159736</td>\n",
       "      <td>1159736</td>\n",
       "      <td>1159736</td>\n",
       "      <td>1159736</td>\n",
       "      <td>1159736</td>\n",
       "      <td>1159736</td>\n",
       "      <td>1159736</td>\n",
       "    </tr>\n",
       "    <tr>\n",
       "      <th>3</th>\n",
       "      <td>566943</td>\n",
       "      <td>566943</td>\n",
       "      <td>566943</td>\n",
       "      <td>566943</td>\n",
       "      <td>566943</td>\n",
       "      <td>566943</td>\n",
       "      <td>566943</td>\n",
       "      <td>566943</td>\n",
       "      <td>566943</td>\n",
       "      <td>566943</td>\n",
       "      <td>566943</td>\n",
       "      <td>566943</td>\n",
       "      <td>566943</td>\n",
       "    </tr>\n",
       "    <tr>\n",
       "      <th>4</th>\n",
       "      <td>54393</td>\n",
       "      <td>54393</td>\n",
       "      <td>54393</td>\n",
       "      <td>54393</td>\n",
       "      <td>54393</td>\n",
       "      <td>54393</td>\n",
       "      <td>54393</td>\n",
       "      <td>54393</td>\n",
       "      <td>54393</td>\n",
       "      <td>54393</td>\n",
       "      <td>54393</td>\n",
       "      <td>54393</td>\n",
       "      <td>54393</td>\n",
       "    </tr>\n",
       "  </tbody>\n",
       "</table>\n",
       "</div>"
      ],
      "text/plain": [
       "          Start_Lat  Start_Lng  Start_Time  Temperature(F)  Visibility(mi)  \\\n",
       "Severity                                                                     \n",
       "2           1159736    1159736     1159736         1159736         1159736   \n",
       "3            566943     566943      566943          566943          566943   \n",
       "4             54393      54393       54393           54393           54393   \n",
       "\n",
       "          Wind_Speed(mph)  Weather_Category  Pressure(in)     Year    Month  \\\n",
       "Severity                                                                      \n",
       "2                 1159736           1159736       1159736  1159736  1159736   \n",
       "3                  566943            566943        566943   566943   566943   \n",
       "4                   54393             54393         54393    54393    54393   \n",
       "\n",
       "              Day     Hour  Weekday  \n",
       "Severity                             \n",
       "2         1159736  1159736  1159736  \n",
       "3          566943   566943   566943  \n",
       "4           54393    54393    54393  "
      ]
     },
     "execution_count": 15,
     "metadata": {},
     "output_type": "execute_result"
    }
   ],
   "source": [
    "df_full_noUN.groupby(\"Severity\").count()"
   ]
  },
  {
   "cell_type": "code",
   "execution_count": 16,
   "metadata": {},
   "outputs": [
    {
     "name": "stdout",
     "output_type": "stream",
     "text": [
      "2    0.651145\n",
      "3    0.318316\n",
      "4    0.030539\n",
      "Name: Severity, dtype: float64\n"
     ]
    }
   ],
   "source": [
    "print(df_full_noUN['Severity'].value_counts()/len(df_full_noUN))"
   ]
  },
  {
   "cell_type": "code",
   "execution_count": null,
   "metadata": {},
   "outputs": [],
   "source": [
    "# df_full_normalized = df_full_noUN.sample(frac=1)\n",
    "\n",
    "# # sevr1_df = df_full_normalized.loc[df_full_normalized['Severity'] == 1]\n",
    "# # sevr2_df = df_full_normalized.loc[df_full_normalized['Severity'] == 2][:1159736]\n",
    "# # sevr3_df = df_full_normalized.loc[df_full_normalized['Severity'] == 3][:1726679]\n",
    "\n",
    "# sevr1_df = df_full_normalized.loc[df_full_normalized['Severity'] == 1]\n",
    "# sevr2_df = df_full_normalized.loc[df_full_normalized['Severity'] == 2]\n",
    "# sevr3_df = df_full_normalized.loc[df_full_normalized['Severity'] == 3]\n",
    "\n",
    "# normal_distributed_df = pd.concat([sevr1_df, sevr2_df, sevr3_df])\n",
    "\n",
    "# # Shuffle dataframe rows\n",
    "# normal_distributed_df = normal_distributed_df.sample(frac=1, random_state=101)\n",
    "\n",
    "# normal_distributed_df.tail()"
   ]
  },
  {
   "cell_type": "code",
   "execution_count": null,
   "metadata": {},
   "outputs": [],
   "source": [
    "# print(normal_distributed_df['Severity'].value_counts()/len(normal_distributed_df))"
   ]
  },
  {
   "cell_type": "code",
   "execution_count": 14,
   "metadata": {},
   "outputs": [],
   "source": [
    "# normal_distributed_df.count()"
   ]
  },
  {
   "cell_type": "code",
   "execution_count": 27,
   "metadata": {},
   "outputs": [],
   "source": [
    "# X = df_full_noUN[[\"Start_Lat\",\"Start_Lng\", \"Temperature(F)\", \"Visibility(mi)\", \"Wind_Speed(mph)\", \"Weather_Category\", \"Weekday\", \"Hour\"]]\n",
    "X = df_full_noUN[[\"Start_Lat\",\"Start_Lng\",\"Temperature(F)\", \"Visibility(mi)\", \"Weather_Category\",\"Weekday\" ]]\n",
    "# X = normal_distributed_df[[\"Start_Lat\",\"Start_Lng\", \"Temperature(F)\", \"Visibility(mi)\", \"Weather_Category\",\"Weekday\" ]]\n",
    "label_encoder = LabelEncoder()\n",
    "data = X.copy()\n",
    "\n",
    "label_encoder.fit(data[\"Weather_Category\"])\n",
    "X[\"Weather_Category\"]=label_encoder.transform(data[\"Weather_Category\"])"
   ]
  },
  {
   "cell_type": "code",
   "execution_count": 28,
   "metadata": {},
   "outputs": [
    {
     "data": {
      "text/plain": [
       "array(['Clear', 'Cloudy', 'Low Visibility', 'Rain', 'Slippery'],\n",
       "      dtype=object)"
      ]
     },
     "execution_count": 28,
     "metadata": {},
     "output_type": "execute_result"
    }
   ],
   "source": [
    "label_encoder.classes_"
   ]
  },
  {
   "cell_type": "code",
   "execution_count": 29,
   "metadata": {},
   "outputs": [],
   "source": [
    "label_encoder.fit(data[\"Weekday\"])\n",
    "X[\"Weekday\"]=label_encoder.transform(data[\"Weekday\"])"
   ]
  },
  {
   "cell_type": "code",
   "execution_count": 30,
   "metadata": {},
   "outputs": [
    {
     "data": {
      "text/plain": [
       "array(['Fri', 'Mon', 'Sat', 'Sun', 'Thu', 'Tue', 'Wed'], dtype=object)"
      ]
     },
     "execution_count": 30,
     "metadata": {},
     "output_type": "execute_result"
    }
   ],
   "source": [
    "label_encoder.classes_"
   ]
  },
  {
   "cell_type": "code",
   "execution_count": 31,
   "metadata": {},
   "outputs": [
    {
     "name": "stdout",
     "output_type": "stream",
     "text": [
      "(1781072, 6) (1781072,)\n"
     ]
    }
   ],
   "source": [
    "y = df_full_noUN[\"Severity\"]\n",
    "# y = normal_distributed_df[\"Severity\"]\n",
    "print(X.shape, y.shape)"
   ]
  },
  {
   "cell_type": "code",
   "execution_count": 32,
   "metadata": {},
   "outputs": [],
   "source": [
    "X_train, X_test, y_train, y_test = train_test_split(X, y, random_state=101, stratify =y)\n",
    "data = X.copy()"
   ]
  },
  {
   "cell_type": "markdown",
   "metadata": {},
   "source": [
    "# With Random Forest Classifier (UnderSampling)"
   ]
  },
  {
   "cell_type": "code",
   "execution_count": 35,
   "metadata": {},
   "outputs": [],
   "source": [
    "pipe_rf = make_pipeline_imb(RandomUnderSampler(),\n",
    "                         StandardScaler(),\n",
    "                         RandomForestClassifier())\n",
    "\n",
    "pipe_rf.fit(X_train, y_train)\n",
    "y_pred = pipe_rf.predict(X_test)"
   ]
  },
  {
   "cell_type": "code",
   "execution_count": 36,
   "metadata": {},
   "outputs": [
    {
     "name": "stdout",
     "output_type": "stream",
     "text": [
      "                   pre       rec       spe        f1       geo       iba       sup\n",
      "\n",
      "          2       0.85      0.62      0.80      0.72      0.70      0.48    289934\n",
      "          3       0.55      0.62      0.76      0.58      0.69      0.46    141736\n",
      "          4       0.14      0.75      0.85      0.23      0.80      0.63     13598\n",
      "\n",
      "avg / total       0.73      0.62      0.79      0.66      0.70      0.48    445268\n",
      "\n",
      "Training Data Score with Random Forest Classifier US: 0.6544957194318927\n",
      "Testing Data Score with Random Forest Classifier US: 0.6232111896655498\n"
     ]
    }
   ],
   "source": [
    "print(classification_report_imbalanced(y_test, y_pred))\n",
    "print(f\"Training Data Score with Random Forest Classifier US: {pipe_rf.score(X_train, y_train)}\")\n",
    "print(f\"Testing Data Score with Random Forest Classifier US: {pipe_rf.score(X_test, y_test)}\")"
   ]
  },
  {
   "cell_type": "markdown",
   "metadata": {},
   "source": [
    "# With Random Forest Classifier (Over Sampling)"
   ]
  },
  {
   "cell_type": "code",
   "execution_count": 37,
   "metadata": {},
   "outputs": [],
   "source": [
    "pipe_rf_OS = make_pipeline_imb(SMOTE(),\n",
    "                         StandardScaler(),\n",
    "                         RandomForestClassifier())\n",
    "\n",
    "pipe_rf_OS.fit(X_train, y_train)\n",
    "y_pred = pipe_rf_OS.predict(X_test)"
   ]
  },
  {
   "cell_type": "code",
   "execution_count": 38,
   "metadata": {},
   "outputs": [
    {
     "name": "stdout",
     "output_type": "stream",
     "text": [
      "                   pre       rec       spe        f1       geo       iba       sup\n",
      "\n",
      "          2       0.85      0.79      0.74      0.82      0.76      0.58    289934\n",
      "          3       0.63      0.71      0.81      0.67      0.76      0.57    141736\n",
      "          4       0.40      0.50      0.98      0.45      0.70      0.47     13598\n",
      "\n",
      "avg / total       0.77      0.76      0.77      0.76      0.76      0.58    445268\n",
      "\n",
      "Training Data Score with Random Forest Classifier OS: 0.6544957194318927\n",
      "Testing Data Score with Random Forest Classifier OS: 0.6232111896655498\n"
     ]
    }
   ],
   "source": [
    "print(classification_report_imbalanced(y_test, y_pred))\n",
    "print(f\"Training Data Score with Random Forest Classifier OS: {pipe_rf_OS.score(X_train, y_train)}\")\n",
    "print(f\"Testing Data Score with Random Forest Classifier OS: {pipe_rf_OS.score(X_test, y_test)}\")"
   ]
  },
  {
   "cell_type": "markdown",
   "metadata": {},
   "source": [
    "# RFC with GridsearchCV"
   ]
  },
  {
   "cell_type": "code",
   "execution_count": 25,
   "metadata": {},
   "outputs": [
    {
     "data": {
      "text/plain": [
       "GridSearchCV(cv=None, error_score=nan,\n",
       "             estimator=Pipeline(memory=None,\n",
       "                                steps=[('smote',\n",
       "                                        SMOTE(k_neighbors=5, kind='deprecated',\n",
       "                                              m_neighbors='deprecated',\n",
       "                                              n_jobs=1, out_step='deprecated',\n",
       "                                              random_state=None, ratio=None,\n",
       "                                              sampling_strategy='auto',\n",
       "                                              svm_estimator='deprecated')),\n",
       "                                       ('standardscaler',\n",
       "                                        StandardScaler(copy=True,\n",
       "                                                       with_mean=True,\n",
       "                                                       with_std=True)),\n",
       "                                       ('randomforestc...\n",
       "                                                               min_weight_fraction_leaf=0.0,\n",
       "                                                               n_estimators=100,\n",
       "                                                               n_jobs=None,\n",
       "                                                               oob_score=False,\n",
       "                                                               random_state=None,\n",
       "                                                               verbose=0,\n",
       "                                                               warm_start=False))],\n",
       "                                verbose=False),\n",
       "             iid='deprecated', n_jobs=None,\n",
       "             param_grid={'randomforestclassifier__max_depth': [10, 15, 20],\n",
       "                         'randomforestclassifier__n_estimators': [1, 5, 10]},\n",
       "             pre_dispatch='2*n_jobs', refit=True, return_train_score=False,\n",
       "             scoring=None, verbose=0)"
      ]
     },
     "execution_count": 25,
     "metadata": {},
     "output_type": "execute_result"
    }
   ],
   "source": [
    "model1 = make_pipeline_imb(SMOTE(), StandardScaler(), RandomForestClassifier())\n",
    "paramgrid = {\"randomforestclassifier__n_estimators\": [1,5,10],\n",
    "             \"randomforestclassifier__max_depth\":[10, 15, 20] }\n",
    "clf_grid_model1 = GridSearchCV(model1, paramgrid)\n",
    "clf_grid_model1.fit(X_train, y_train)"
   ]
  },
  {
   "cell_type": "code",
   "execution_count": 57,
   "metadata": {},
   "outputs": [],
   "source": [
    "y_pred = clf_grid_model1.predict(X_test)"
   ]
  },
  {
   "cell_type": "code",
   "execution_count": 58,
   "metadata": {},
   "outputs": [
    {
     "name": "stdout",
     "output_type": "stream",
     "text": [
      "                   pre       rec       spe        f1       geo       iba       sup\n",
      "\n",
      "          2       0.85      0.71      0.76      0.77      0.74      0.54    289934\n",
      "          3       0.58      0.69      0.77      0.63      0.73      0.53    141736\n",
      "          4       0.21      0.52      0.94      0.30      0.70      0.47     13598\n",
      "\n",
      "avg / total       0.74      0.70      0.77      0.71      0.73      0.53    445268\n",
      "\n"
     ]
    }
   ],
   "source": [
    "print(classification_report_imbalanced(y_test, y_pred))"
   ]
  },
  {
   "cell_type": "code",
   "execution_count": 26,
   "metadata": {},
   "outputs": [
    {
     "name": "stdout",
     "output_type": "stream",
     "text": [
      "Training Accuracy with Random Forest Classifier with grid search: 0.7779741638743408\n",
      "Testing Accuracy with Random Forest Classifier with grid search: 0.6996550392123395\n"
     ]
    }
   ],
   "source": [
    "print(f\"Training Accuracy with Random Forest Classifier with grid search: {clf_grid_model1.score(X_train, y_train)}\")\n",
    "print(f\"Testing Accuracy with Random Forest Classifier with grid search: {clf_grid_model1.score(X_test, y_test)}\")"
   ]
  },
  {
   "cell_type": "code",
   "execution_count": 28,
   "metadata": {},
   "outputs": [
    {
     "data": {
      "text/plain": [
       "{'randomforestclassifier__max_depth': 20,\n",
       " 'randomforestclassifier__n_estimators': 10}"
      ]
     },
     "execution_count": 28,
     "metadata": {},
     "output_type": "execute_result"
    }
   ],
   "source": [
    "clf_grid_model1.best_params_"
   ]
  },
  {
   "cell_type": "markdown",
   "metadata": {},
   "source": [
    "# Save the model with best accuracy"
   ]
  },
  {
   "cell_type": "code",
   "execution_count": 33,
   "metadata": {},
   "outputs": [
    {
     "data": {
      "text/plain": [
       "['final_acc_sev_pred_grid.pkl']"
      ]
     },
     "execution_count": 33,
     "metadata": {},
     "output_type": "execute_result"
    }
   ],
   "source": [
    "filename = 'model\\final_acc_sev_pred_grid.pkl'\n",
    "joblib.dump(clf_grid_model1, filename)"
   ]
  },
  {
   "cell_type": "markdown",
   "metadata": {},
   "source": [
    "# RFC with Grid Search to try another Hyper Parameter"
   ]
  },
  {
   "cell_type": "code",
   "execution_count": 39,
   "metadata": {},
   "outputs": [
    {
     "data": {
      "text/plain": [
       "GridSearchCV(cv=None, error_score=nan,\n",
       "             estimator=Pipeline(memory=None,\n",
       "                                steps=[('smote',\n",
       "                                        SMOTE(k_neighbors=5, kind='deprecated',\n",
       "                                              m_neighbors='deprecated',\n",
       "                                              n_jobs=1, out_step='deprecated',\n",
       "                                              random_state=None, ratio=None,\n",
       "                                              sampling_strategy='auto',\n",
       "                                              svm_estimator='deprecated')),\n",
       "                                       ('standardscaler',\n",
       "                                        StandardScaler(copy=True,\n",
       "                                                       with_mean=True,\n",
       "                                                       with_std=True)),\n",
       "                                       ('randomforestc...\n",
       "                                                               min_impurity_split=None,\n",
       "                                                               min_samples_leaf=1,\n",
       "                                                               min_samples_split=2,\n",
       "                                                               min_weight_fraction_leaf=0.0,\n",
       "                                                               n_estimators=10,\n",
       "                                                               n_jobs=None,\n",
       "                                                               oob_score=False,\n",
       "                                                               random_state=None,\n",
       "                                                               verbose=0,\n",
       "                                                               warm_start=False))],\n",
       "                                verbose=False),\n",
       "             iid='deprecated', n_jobs=None,\n",
       "             param_grid={'randomforestclassifier__max_depth': [50, 75, 100]},\n",
       "             pre_dispatch='2*n_jobs', refit=True, return_train_score=False,\n",
       "             scoring=None, verbose=0)"
      ]
     },
     "execution_count": 39,
     "metadata": {},
     "output_type": "execute_result"
    }
   ],
   "source": [
    "pipe_rf_OS_grid = make_pipeline_imb(SMOTE(), StandardScaler(), RandomForestClassifier(n_estimators=10))\n",
    "paramgrid = {\"randomforestclassifier__max_depth\":[50, 75, 100] }\n",
    "rf_grid_OS = GridSearchCV(pipe_rf_OS_grid, paramgrid)\n",
    "rf_grid_OS.fit(X_train, y_train)"
   ]
  },
  {
   "cell_type": "code",
   "execution_count": 40,
   "metadata": {},
   "outputs": [],
   "source": [
    "y_pred_OS = rf_grid_OS.predict(X_test)"
   ]
  },
  {
   "cell_type": "code",
   "execution_count": 51,
   "metadata": {},
   "outputs": [
    {
     "data": {
      "text/plain": [
       "{'randomforestclassifier__max_depth': 75}"
      ]
     },
     "execution_count": 51,
     "metadata": {},
     "output_type": "execute_result"
    }
   ],
   "source": [
    "rf_grid_OS.best_params_"
   ]
  },
  {
   "cell_type": "code",
   "execution_count": 41,
   "metadata": {},
   "outputs": [
    {
     "name": "stdout",
     "output_type": "stream",
     "text": [
      "                   pre       rec       spe        f1       geo       iba       sup\n",
      "\n",
      "          2       0.82      0.79      0.69      0.81      0.74      0.55    289934\n",
      "          3       0.62      0.66      0.81      0.64      0.73      0.53    141736\n",
      "          4       0.38      0.48      0.98      0.42      0.68      0.44     13598\n",
      "\n",
      "avg / total       0.75      0.74      0.73      0.74      0.73      0.54    445268\n",
      "\n",
      "Training Data Score with Random Forest Classifier OS_Gridsearch: 0.9869831202781246\n",
      "Testing Data Score with Random Forest Classifier OS_Gridsearch: 0.7393412506625223\n"
     ]
    }
   ],
   "source": [
    "print(classification_report_imbalanced(y_test, y_pred_OS))\n",
    "print(f\"Training Data Score with Random Forest Classifier OS_Gridsearch: {rf_grid_OS.score(X_train, y_train)}\")\n",
    "print(f\"Testing Data Score with Random Forest Classifier OS_Gridsearch: {rf_grid_OS.score(X_test, y_test)}\")"
   ]
  },
  {
   "cell_type": "code",
   "execution_count": 48,
   "metadata": {},
   "outputs": [
    {
     "data": {
      "text/plain": [
       "Pipeline(memory=None,\n",
       "         steps=[('smote',\n",
       "                 SMOTE(k_neighbors=5, kind='deprecated',\n",
       "                       m_neighbors='deprecated', n_jobs=1,\n",
       "                       out_step='deprecated', random_state=None, ratio=None,\n",
       "                       sampling_strategy='auto', svm_estimator='deprecated')),\n",
       "                ('standardscaler',\n",
       "                 StandardScaler(copy=True, with_mean=True, with_std=True)),\n",
       "                ('randomforestclassifier',\n",
       "                 RandomForestClassifier(bootstrap=True, ccp_alpha=0.0,\n",
       "                                        class_weight=None, criterion='gini',\n",
       "                                        max_depth=20, max_features='auto',\n",
       "                                        max_leaf_nodes=None, max_samples=None,\n",
       "                                        min_impurity_decrease=0.0,\n",
       "                                        min_impurity_split=None,\n",
       "                                        min_samples_leaf=1, min_samples_split=2,\n",
       "                                        min_weight_fraction_leaf=0.0,\n",
       "                                        n_estimators=10, n_jobs=None,\n",
       "                                        oob_score=False, random_state=None,\n",
       "                                        verbose=0, warm_start=False))],\n",
       "         verbose=False)"
      ]
     },
     "execution_count": 48,
     "metadata": {},
     "output_type": "execute_result"
    }
   ],
   "source": [
    "pipe_rf_OS_gridpm = make_pipeline_imb(SMOTE(), StandardScaler(), RandomForestClassifier(n_estimators=10, max_depth=20))\n",
    "\n",
    "pipe_rf_OS_gridpm.fit(X_train, y_train)"
   ]
  },
  {
   "cell_type": "code",
   "execution_count": 49,
   "metadata": {},
   "outputs": [],
   "source": [
    "y_pred_OS_gridpm = pipe_rf_OS_gridpm.predict(X_test)"
   ]
  },
  {
   "cell_type": "code",
   "execution_count": 50,
   "metadata": {},
   "outputs": [
    {
     "name": "stdout",
     "output_type": "stream",
     "text": [
      "                   pre       rec       spe        f1       geo       iba       sup\n",
      "\n",
      "          2       0.84      0.71      0.74      0.77      0.72      0.52    289934\n",
      "          3       0.57      0.67      0.76      0.62      0.71      0.51    141736\n",
      "          4       0.21      0.51      0.94      0.29      0.69      0.46     13598\n",
      "\n",
      "avg / total       0.73      0.69      0.76      0.70      0.72      0.52    445268\n",
      "\n",
      "Training Data Score with Random Forest Classifier OS_Gridsearch: 0.7672824755727636\n",
      "Testing Data Score with Random Forest Classifier OS_Gridsearch: 0.6891422693748485\n"
     ]
    }
   ],
   "source": [
    "print(classification_report_imbalanced(y_test, y_pred_OS_gridpm))\n",
    "print(f\"Training Data Score with Random Forest Classifier OS_Gridsearch: {pipe_rf_OS_gridpm.score(X_train, y_train)}\")\n",
    "print(f\"Testing Data Score with Random Forest Classifier OS_Gridsearch: {pipe_rf_OS_gridpm.score(X_test, y_test)}\")"
   ]
  },
  {
   "cell_type": "markdown",
   "metadata": {},
   "source": [
    "# Random Forest Classifier (UnderSampling) with GridSearch"
   ]
  },
  {
   "cell_type": "code",
   "execution_count": 33,
   "metadata": {},
   "outputs": [],
   "source": [
    "pipe_rf_undersample = make_pipeline_imb(RandomUnderSampler(),\n",
    "                         StandardScaler(),\n",
    "                         RandomForestClassifier(n_estimators=10, max_depth=75))\n",
    "\n",
    "pipe_rf_undersample.fit(X_train, y_train)\n",
    "y_pred_undersample = pipe_rf_undersample.predict(X_test)"
   ]
  },
  {
   "cell_type": "code",
   "execution_count": 34,
   "metadata": {},
   "outputs": [
    {
     "name": "stdout",
     "output_type": "stream",
     "text": [
      "                   pre       rec       spe        f1       geo       iba       sup\n",
      "\n",
      "          2       0.83      0.63      0.75      0.72      0.69      0.47    289934\n",
      "          3       0.54      0.58      0.77      0.56      0.67      0.44    141736\n",
      "          4       0.14      0.71      0.86      0.23      0.78      0.60     13598\n",
      "\n",
      "avg / total       0.72      0.62      0.76      0.65      0.69      0.46    445268\n",
      "\n",
      "Training Data Score with Random Forest Classifier US: 0.6509922114322161\n",
      "Testing Data Score with Random Forest Classifier US: 0.619123763665927\n"
     ]
    }
   ],
   "source": [
    "print(classification_report_imbalanced(y_test, y_pred_undersample))\n",
    "print(f\"Training Data Score with Random Forest Classifier US: {pipe_rf_undersample.score(X_train, y_train)}\")\n",
    "print(f\"Testing Data Score with Random Forest Classifier US: {pipe_rf_undersample.score(X_test, y_test)}\")"
   ]
  },
  {
   "cell_type": "markdown",
   "metadata": {},
   "source": [
    "# Testing the saved model"
   ]
  },
  {
   "cell_type": "code",
   "execution_count": 53,
   "metadata": {},
   "outputs": [],
   "source": [
    "my_model_rf_grid = joblib.load(\"model/final_acc_sev_pred_grid.pkl\")"
   ]
  },
  {
   "cell_type": "markdown",
   "metadata": {},
   "source": [
    "# Austin Weather-severity"
   ]
  },
  {
   "cell_type": "code",
   "execution_count": 54,
   "metadata": {},
   "outputs": [
    {
     "data": {
      "text/plain": [
       "array([2])"
      ]
     },
     "execution_count": 54,
     "metadata": {},
     "output_type": "execute_result"
    }
   ],
   "source": [
    "my_model_rf_grid.predict([[30.26, -97.74, 60, 2.5, 3, 2]])"
   ]
  },
  {
   "cell_type": "code",
   "execution_count": 108,
   "metadata": {},
   "outputs": [
    {
     "data": {
      "text/plain": [
       "array([2])"
      ]
     },
     "execution_count": 108,
     "metadata": {},
     "output_type": "execute_result"
    }
   ],
   "source": [
    "my_model_rf_grid.predict([[30.26, -97.74, 60, 2.5, 3, 2]])"
   ]
  },
  {
   "cell_type": "code",
   "execution_count": 55,
   "metadata": {},
   "outputs": [
    {
     "data": {
      "text/plain": [
       "array([2])"
      ]
     },
     "execution_count": 55,
     "metadata": {},
     "output_type": "execute_result"
    }
   ],
   "source": [
    "my_model_rf_grid.predict([[30.26, -97.74, 90, 20, 0, 2]])"
   ]
  },
  {
   "cell_type": "code",
   "execution_count": 57,
   "metadata": {},
   "outputs": [
    {
     "data": {
      "text/plain": [
       "array([2])"
      ]
     },
     "execution_count": 57,
     "metadata": {},
     "output_type": "execute_result"
    }
   ],
   "source": [
    "my_model_rf_grid.predict([[39.77, -84.19, 85, 2.5, 0, 4]])"
   ]
  },
  {
   "cell_type": "code",
   "execution_count": 58,
   "metadata": {},
   "outputs": [
    {
     "data": {
      "text/plain": [
       "array([3])"
      ]
     },
     "execution_count": 58,
     "metadata": {},
     "output_type": "execute_result"
    }
   ],
   "source": [
    "my_model_rf_grid.predict([[39.77, -84.19, 78.2, 0, 1, 4]])"
   ]
  },
  {
   "cell_type": "code",
   "execution_count": 60,
   "metadata": {},
   "outputs": [
    {
     "data": {
      "text/plain": [
       "array([4])"
      ]
     },
     "execution_count": 60,
     "metadata": {},
     "output_type": "execute_result"
    }
   ],
   "source": [
    "my_model_rf_grid.predict([[30.77, -91.44, 60, 2.5, 3, 4]])"
   ]
  },
  {
   "cell_type": "code",
   "execution_count": 56,
   "metadata": {},
   "outputs": [
    {
     "data": {
      "text/plain": [
       "array([3])"
      ]
     },
     "execution_count": 56,
     "metadata": {},
     "output_type": "execute_result"
    }
   ],
   "source": [
    "my_model_rf_grid.predict([[30.77, -91.49, 60, 2.5, 3, 2]])"
   ]
  },
  {
   "cell_type": "code",
   "execution_count": 61,
   "metadata": {},
   "outputs": [
    {
     "data": {
      "text/plain": [
       "array([3])"
      ]
     },
     "execution_count": 61,
     "metadata": {},
     "output_type": "execute_result"
    }
   ],
   "source": [
    "my_model_rf_grid.predict([[40.44, -79.99, 60, 2.5, 3, 4]])"
   ]
  },
  {
   "cell_type": "code",
   "execution_count": 62,
   "metadata": {},
   "outputs": [
    {
     "data": {
      "text/plain": [
       "array([3])"
      ]
     },
     "execution_count": 62,
     "metadata": {},
     "output_type": "execute_result"
    }
   ],
   "source": [
    "my_model_rf_grid.predict([[40.44, -79.99, 60, 0, 4, 4]])"
   ]
  },
  {
   "cell_type": "code",
   "execution_count": 63,
   "metadata": {},
   "outputs": [
    {
     "data": {
      "text/plain": [
       "array([2])"
      ]
     },
     "execution_count": 63,
     "metadata": {},
     "output_type": "execute_result"
    }
   ],
   "source": [
    "my_model_rf_grid.predict([[40.44, -79.99, 60, 0, 2, 4]])"
   ]
  },
  {
   "cell_type": "code",
   "execution_count": 66,
   "metadata": {},
   "outputs": [
    {
     "data": {
      "text/plain": [
       "GridSearchCV(cv=None, error_score=nan,\n",
       "             estimator=Pipeline(memory=None,\n",
       "                                steps=[('randomundersampler',\n",
       "                                        RandomUnderSampler(random_state=None,\n",
       "                                                           ratio=None,\n",
       "                                                           replacement=False,\n",
       "                                                           return_indices=False,\n",
       "                                                           sampling_strategy='auto')),\n",
       "                                       ('standardscaler',\n",
       "                                        StandardScaler(copy=True,\n",
       "                                                       with_mean=True,\n",
       "                                                       with_std=True)),\n",
       "                                       ('randomforestclassifier',\n",
       "                                        RandomForestClassifier(bootstrap=True,\n",
       "                                                               c...\n",
       "                                                               min_impurity_split=None,\n",
       "                                                               min_samples_leaf=1,\n",
       "                                                               min_samples_split=2,\n",
       "                                                               min_weight_fraction_leaf=0.0,\n",
       "                                                               n_estimators=10,\n",
       "                                                               n_jobs=None,\n",
       "                                                               oob_score=False,\n",
       "                                                               random_state=None,\n",
       "                                                               verbose=0,\n",
       "                                                               warm_start=False))],\n",
       "                                verbose=False),\n",
       "             iid='deprecated', n_jobs=None,\n",
       "             param_grid={'randomforestclassifier__max_depth': [30, 75, 90]},\n",
       "             pre_dispatch='2*n_jobs', refit=True, return_train_score=False,\n",
       "             scoring=None, verbose=0)"
      ]
     },
     "execution_count": 66,
     "metadata": {},
     "output_type": "execute_result"
    }
   ],
   "source": [
    "model1_US = make_pipeline_imb(RandomUnderSampler(), StandardScaler(), RandomForestClassifier(n_estimators=10))\n",
    "paramgrid = {\"randomforestclassifier__max_depth\":[30, 75, 90] }\n",
    "clf_grid_model1_US = GridSearchCV(model1_US, paramgrid)\n",
    "clf_grid_model1_US.fit(X_train, y_train)"
   ]
  },
  {
   "cell_type": "code",
   "execution_count": 67,
   "metadata": {},
   "outputs": [],
   "source": [
    "y_pred = clf_grid_model1_US.predict(X_test)"
   ]
  },
  {
   "cell_type": "code",
   "execution_count": 68,
   "metadata": {},
   "outputs": [
    {
     "name": "stdout",
     "output_type": "stream",
     "text": [
      "                   pre       rec       spe        f1       geo       iba       sup\n",
      "\n",
      "          2       0.82      0.63      0.75      0.71      0.68      0.46    289934\n",
      "          3       0.53      0.58      0.76      0.55      0.66      0.43    141736\n",
      "          4       0.13      0.70      0.86      0.23      0.78      0.59     13598\n",
      "\n",
      "avg / total       0.71      0.61      0.76      0.65      0.68      0.46    445268\n",
      "\n"
     ]
    }
   ],
   "source": [
    "print(classification_report_imbalanced(y_test, y_pred))"
   ]
  },
  {
   "cell_type": "code",
   "execution_count": 69,
   "metadata": {},
   "outputs": [
    {
     "name": "stdout",
     "output_type": "stream",
     "text": [
      "Training Accuracy with Random Forest Classifier with grid search: 0.6452286413276199\n",
      "Testing Accuracy with Random Forest Classifier with grid search: 0.6130981790741755\n"
     ]
    }
   ],
   "source": [
    "print(f\"Training Accuracy with Random Forest Classifier with grid search: {clf_grid_model1_US.score(X_train, y_train)}\")\n",
    "print(f\"Testing Accuracy with Random Forest Classifier with grid search: {clf_grid_model1_US.score(X_test, y_test)}\")\n"
   ]
  },
  {
   "cell_type": "code",
   "execution_count": 70,
   "metadata": {},
   "outputs": [
    {
     "data": {
      "text/plain": [
       "{'randomforestclassifier__max_depth': 75}"
      ]
     },
     "execution_count": 70,
     "metadata": {},
     "output_type": "execute_result"
    }
   ],
   "source": [
    "clf_grid_model1_US.best_params_"
   ]
  },
  {
   "cell_type": "code",
   "execution_count": 65,
   "metadata": {},
   "outputs": [
    {
     "data": {
      "text/plain": [
       "['final_acc_sev_pred_grid_US.pkl']"
      ]
     },
     "execution_count": 65,
     "metadata": {},
     "output_type": "execute_result"
    }
   ],
   "source": [
    "filename = 'final_acc_sev_pred_grid_US.pkl'\n",
    "joblib.dump(clf_grid_model1_US, filename)"
   ]
  },
  {
   "cell_type": "code",
   "execution_count": 71,
   "metadata": {},
   "outputs": [],
   "source": [
    "my_model_rf_US = joblib.load(\"final_acc_sev_pred_grid_US.pkl\")"
   ]
  },
  {
   "cell_type": "code",
   "execution_count": 72,
   "metadata": {},
   "outputs": [
    {
     "data": {
      "text/plain": [
       "array([3])"
      ]
     },
     "execution_count": 72,
     "metadata": {},
     "output_type": "execute_result"
    }
   ],
   "source": [
    "my_model_rf_US.predict([[30.77, -91.44, 60, 2.5, 3, 2]])"
   ]
  },
  {
   "cell_type": "code",
   "execution_count": 73,
   "metadata": {},
   "outputs": [
    {
     "data": {
      "text/plain": [
       "array([4])"
      ]
     },
     "execution_count": 73,
     "metadata": {},
     "output_type": "execute_result"
    }
   ],
   "source": [
    "my_model_rf_US.predict([[30.77, -91.44, 60, 5, 0, 2]])"
   ]
  },
  {
   "cell_type": "code",
   "execution_count": 74,
   "metadata": {},
   "outputs": [
    {
     "data": {
      "text/plain": [
       "array([2])"
      ]
     },
     "execution_count": 74,
     "metadata": {},
     "output_type": "execute_result"
    }
   ],
   "source": [
    "my_model_rf_US.predict([[30.77, -91.44, 60, 0, 0, 2]])"
   ]
  },
  {
   "cell_type": "markdown",
   "metadata": {},
   "source": [
    "# Logistic Regression with Over Sampling"
   ]
  },
  {
   "cell_type": "code",
   "execution_count": 64,
   "metadata": {},
   "outputs": [],
   "source": [
    "lg_pipe = make_pipeline_imb(SMOTE(),\n",
    "                         StandardScaler(),\n",
    "                         LogisticRegression())\n",
    "\n",
    "lg_pipe.fit(X_train, y_train)\n",
    "y_pred = lg_pipe.predict(X_test)"
   ]
  },
  {
   "cell_type": "code",
   "execution_count": 65,
   "metadata": {},
   "outputs": [
    {
     "name": "stdout",
     "output_type": "stream",
     "text": [
      "                   pre       rec       spe        f1       geo       iba       sup\n",
      "\n",
      "          2       0.67      0.42      0.62      0.52      0.51      0.25    289934\n",
      "          3       0.33      0.20      0.81      0.25      0.40      0.15    141736\n",
      "          4       0.05      0.59      0.60      0.08      0.60      0.36     13598\n",
      "\n",
      "avg / total       0.54      0.35      0.68      0.42      0.48      0.22    445268\n",
      "\n",
      "Training Data Score with Logistic Classifier: 0.35346952097762846\n",
      "Testing Data Score with Logistic Classifier: 0.35336696102122767\n"
     ]
    }
   ],
   "source": [
    "print(classification_report_imbalanced(y_test, y_pred))\n",
    "print(f\"Training Data Score with Logistic Classifier: {lg_pipe.score(X_train, y_train)}\")\n",
    "print(f\"Testing Data Score with Logistic Classifier: {lg_pipe.score(X_test, y_test)}\")"
   ]
  },
  {
   "cell_type": "markdown",
   "metadata": {},
   "source": [
    "# Support Vector Classifier with Under Sampling"
   ]
  },
  {
   "cell_type": "code",
   "execution_count": 153,
   "metadata": {},
   "outputs": [],
   "source": [
    "svc_pipe = make_pipeline_imb(RandomUnderSampler(),\n",
    "                         StandardScaler(),\n",
    "                         SVC(kernel='linear'))\n",
    "\n",
    "svc_pipe.fit(X_train, y_train)\n",
    "y_pred = svc_pipe.predict(X_test)"
   ]
  },
  {
   "cell_type": "code",
   "execution_count": null,
   "metadata": {},
   "outputs": [
    {
     "name": "stdout",
     "output_type": "stream",
     "text": [
      "                   pre       rec       spe        f1       geo       iba       sup\n",
      "\n",
      "          2       0.66      0.52      0.50      0.58      0.51      0.26    289934\n",
      "          3       0.28      0.02      0.98      0.04      0.14      0.02    141736\n",
      "          4       0.04      0.66      0.54      0.08      0.60      0.36     13598\n",
      "\n",
      "avg / total       0.52      0.36      0.65      0.39      0.39      0.19    445268\n",
      "\n"
     ]
    }
   ],
   "source": [
    "print(classification_report_imbalanced(y_test, y_pred))\n",
    "print(f\"Training Data Score with Support Vector Classifier: {svc_pipe.score(X_train, y_train)}\")\n",
    "print(f\"Testing Data Score with Support Vector Classifier: {svc_pipe.score(X_test, y_test)}\")"
   ]
  },
  {
   "cell_type": "code",
   "execution_count": null,
   "metadata": {},
   "outputs": [],
   "source": []
  }
 ],
 "metadata": {
  "kernelspec": {
   "display_name": "Conda [PythonData]",
   "language": "python",
   "name": "pythondata"
  },
  "language_info": {
   "codemirror_mode": {
    "name": "ipython",
    "version": 3
   },
   "file_extension": ".py",
   "mimetype": "text/x-python",
   "name": "python",
   "nbconvert_exporter": "python",
   "pygments_lexer": "ipython3",
   "version": "3.7.3"
  }
 },
 "nbformat": 4,
 "nbformat_minor": 2
}
